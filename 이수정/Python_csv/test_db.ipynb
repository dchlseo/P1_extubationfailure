{
 "cells": [
  {
   "cell_type": "code",
   "execution_count": 5,
   "metadata": {},
   "outputs": [],
   "source": [
    "import pandas as pd\n",
    "import sqlite3\n",
    "from tqdm import tqdm\n",
    "import os\n",
    "\n",
    "conn = sqlite3.connect('mimic4.db')"
   ]
  },
  {
   "cell_type": "code",
   "execution_count": 6,
   "metadata": {},
   "outputs": [
    {
     "ename": "DatabaseError",
     "evalue": "Execution failed on sql 'SELECT * FROM patients LIMIT 1': no such table: patients",
     "output_type": "error",
     "traceback": [
      "\u001b[1;31m---------------------------------------------------------------------------\u001b[0m",
      "\u001b[1;31mOperationalError\u001b[0m                          Traceback (most recent call last)",
      "File \u001b[1;32mc:\\Python\\Python39\\lib\\site-packages\\pandas\\io\\sql.py:2019\u001b[0m, in \u001b[0;36mSQLiteDatabase.execute\u001b[1;34m(self, *args, **kwargs)\u001b[0m\n\u001b[0;32m   2018\u001b[0m \u001b[39mtry\u001b[39;00m:\n\u001b[1;32m-> 2019\u001b[0m     cur\u001b[39m.\u001b[39mexecute(\u001b[39m*\u001b[39margs, \u001b[39m*\u001b[39m\u001b[39m*\u001b[39mkwargs)\n\u001b[0;32m   2020\u001b[0m     \u001b[39mreturn\u001b[39;00m cur\n",
      "\u001b[1;31mOperationalError\u001b[0m: no such table: patients",
      "\nThe above exception was the direct cause of the following exception:\n",
      "\u001b[1;31mDatabaseError\u001b[0m                             Traceback (most recent call last)",
      "Cell \u001b[1;32mIn [6], line 2\u001b[0m\n\u001b[0;32m      1\u001b[0m \u001b[39m# print column names\u001b[39;00m\n\u001b[1;32m----> 2\u001b[0m \u001b[39mprint\u001b[39m(pd\u001b[39m.\u001b[39mread_sql_query(\u001b[39m\"\u001b[39m\u001b[39mSELECT * FROM patients LIMIT 1\u001b[39m\u001b[39m\"\u001b[39m, conn))\n",
      "File \u001b[1;32mc:\\Python\\Python39\\lib\\site-packages\\pandas\\io\\sql.py:398\u001b[0m, in \u001b[0;36mread_sql_query\u001b[1;34m(sql, con, index_col, coerce_float, params, parse_dates, chunksize, dtype)\u001b[0m\n\u001b[0;32m    340\u001b[0m \u001b[39m\"\"\"\u001b[39;00m\n\u001b[0;32m    341\u001b[0m \u001b[39mRead SQL query into a DataFrame.\u001b[39;00m\n\u001b[0;32m    342\u001b[0m \n\u001b[1;32m   (...)\u001b[0m\n\u001b[0;32m    395\u001b[0m \u001b[39mparameter will be converted to UTC.\u001b[39;00m\n\u001b[0;32m    396\u001b[0m \u001b[39m\"\"\"\u001b[39;00m\n\u001b[0;32m    397\u001b[0m pandas_sql \u001b[39m=\u001b[39m pandasSQL_builder(con)\n\u001b[1;32m--> 398\u001b[0m \u001b[39mreturn\u001b[39;00m pandas_sql\u001b[39m.\u001b[39;49mread_query(\n\u001b[0;32m    399\u001b[0m     sql,\n\u001b[0;32m    400\u001b[0m     index_col\u001b[39m=\u001b[39;49mindex_col,\n\u001b[0;32m    401\u001b[0m     params\u001b[39m=\u001b[39;49mparams,\n\u001b[0;32m    402\u001b[0m     coerce_float\u001b[39m=\u001b[39;49mcoerce_float,\n\u001b[0;32m    403\u001b[0m     parse_dates\u001b[39m=\u001b[39;49mparse_dates,\n\u001b[0;32m    404\u001b[0m     chunksize\u001b[39m=\u001b[39;49mchunksize,\n\u001b[0;32m    405\u001b[0m     dtype\u001b[39m=\u001b[39;49mdtype,\n\u001b[0;32m    406\u001b[0m )\n",
      "File \u001b[1;32mc:\\Python\\Python39\\lib\\site-packages\\pandas\\io\\sql.py:2079\u001b[0m, in \u001b[0;36mSQLiteDatabase.read_query\u001b[1;34m(self, sql, index_col, coerce_float, params, parse_dates, chunksize, dtype)\u001b[0m\n\u001b[0;32m   2067\u001b[0m \u001b[39mdef\u001b[39;00m \u001b[39mread_query\u001b[39m(\n\u001b[0;32m   2068\u001b[0m     \u001b[39mself\u001b[39m,\n\u001b[0;32m   2069\u001b[0m     sql,\n\u001b[1;32m   (...)\u001b[0m\n\u001b[0;32m   2075\u001b[0m     dtype: DtypeArg \u001b[39m|\u001b[39m \u001b[39mNone\u001b[39;00m \u001b[39m=\u001b[39m \u001b[39mNone\u001b[39;00m,\n\u001b[0;32m   2076\u001b[0m ) \u001b[39m-\u001b[39m\u001b[39m>\u001b[39m DataFrame \u001b[39m|\u001b[39m Iterator[DataFrame]:\n\u001b[0;32m   2078\u001b[0m     args \u001b[39m=\u001b[39m _convert_params(sql, params)\n\u001b[1;32m-> 2079\u001b[0m     cursor \u001b[39m=\u001b[39m \u001b[39mself\u001b[39;49m\u001b[39m.\u001b[39;49mexecute(\u001b[39m*\u001b[39;49margs)\n\u001b[0;32m   2080\u001b[0m     columns \u001b[39m=\u001b[39m [col_desc[\u001b[39m0\u001b[39m] \u001b[39mfor\u001b[39;00m col_desc \u001b[39min\u001b[39;00m cursor\u001b[39m.\u001b[39mdescription]\n\u001b[0;32m   2082\u001b[0m     \u001b[39mif\u001b[39;00m chunksize \u001b[39mis\u001b[39;00m \u001b[39mnot\u001b[39;00m \u001b[39mNone\u001b[39;00m:\n",
      "File \u001b[1;32mc:\\Python\\Python39\\lib\\site-packages\\pandas\\io\\sql.py:2031\u001b[0m, in \u001b[0;36mSQLiteDatabase.execute\u001b[1;34m(self, *args, **kwargs)\u001b[0m\n\u001b[0;32m   2028\u001b[0m     \u001b[39mraise\u001b[39;00m ex \u001b[39mfrom\u001b[39;00m \u001b[39minner_exc\u001b[39;00m\n\u001b[0;32m   2030\u001b[0m ex \u001b[39m=\u001b[39m DatabaseError(\u001b[39mf\u001b[39m\u001b[39m\"\u001b[39m\u001b[39mExecution failed on sql \u001b[39m\u001b[39m'\u001b[39m\u001b[39m{\u001b[39;00margs[\u001b[39m0\u001b[39m]\u001b[39m}\u001b[39;00m\u001b[39m'\u001b[39m\u001b[39m: \u001b[39m\u001b[39m{\u001b[39;00mexc\u001b[39m}\u001b[39;00m\u001b[39m\"\u001b[39m)\n\u001b[1;32m-> 2031\u001b[0m \u001b[39mraise\u001b[39;00m ex \u001b[39mfrom\u001b[39;00m \u001b[39mexc\u001b[39;00m\n",
      "\u001b[1;31mDatabaseError\u001b[0m: Execution failed on sql 'SELECT * FROM patients LIMIT 1': no such table: patients"
     ]
    }
   ],
   "source": [
    "# print column names\n",
    "print(pd.read_sql_query(\"SELECT * FROM patients LIMIT 1\", conn))\n"
   ]
  },
  {
   "cell_type": "code",
   "execution_count": null,
   "metadata": {},
   "outputs": [
    {
     "name": "stdout",
     "output_type": "stream",
     "text": [
      "    ROW_ID  ITEMID                               LABEL  \\\n",
      "0      199     198                           GCS Total   \n",
      "1    14688  227011                     GCSEye_ApacheIV   \n",
      "2    14689  227012                   GCSMotor_ApacheIV   \n",
      "3    14690  227013                   GcsScore_ApacheIV   \n",
      "4    14691  227014                  GCSVerbal_ApacheIV   \n",
      "5    12708  220739                   GCS - Eye Opening   \n",
      "6    15305  228112  GCSVerbalApacheIIValue (intubated)   \n",
      "7    12827  223900               GCS - Verbal Response   \n",
      "8    12828  223901                GCS - Motor Response   \n",
      "9    14516  226755                    GcsApacheIIScore   \n",
      "10   14517  226756                 GCSEyeApacheIIValue   \n",
      "11   14518  226757               GCSMotorApacheIIValue   \n",
      "12   14519  226758              GCSVerbalApacheIIValue   \n",
      "\n",
      "                          ABBREVIATION    DBSOURCE      LINKSTO  \\\n",
      "0                                 None     carevue  chartevents   \n",
      "1                      GCSEye_ApacheIV  metavision  chartevents   \n",
      "2                    GCSMotor_ApacheIV  metavision  chartevents   \n",
      "3                    GcsScore_ApacheIV  metavision  chartevents   \n",
      "4                   GCSVerbal_ApacheIV  metavision  chartevents   \n",
      "5                          Eye Opening  metavision  chartevents   \n",
      "6   GCSVerbalApacheIIValue (intubated)  metavision  chartevents   \n",
      "7                      Verbal Response  metavision  chartevents   \n",
      "8                       Motor Response  metavision  chartevents   \n",
      "9                     GcsApacheIIScore  metavision  chartevents   \n",
      "10                 GCSEyeApacheIIValue  metavision  chartevents   \n",
      "11               GCSMotorApacheIIValue  metavision  chartevents   \n",
      "12              GCSVerbalApacheIIValue  metavision  chartevents   \n",
      "\n",
      "                  CATEGORY UNITNAME PARAM_TYPE CONCEPTID  \n",
      "0                     None     None       None      None  \n",
      "1   Scores - APACHE IV (2)     None       Text      None  \n",
      "2   Scores - APACHE IV (2)     None       Text      None  \n",
      "3   Scores - APACHE IV (2)     None    Numeric      None  \n",
      "4   Scores - APACHE IV (2)     None       Text      None  \n",
      "5             Neurological     None       Text      None  \n",
      "6       Scores - APACHE II     None       Text      None  \n",
      "7             Neurological     None       Text      None  \n",
      "8             Neurological     None       Text      None  \n",
      "9       Scores - APACHE II     None    Numeric      None  \n",
      "10      Scores - APACHE II     None       Text      None  \n",
      "11      Scores - APACHE II     None       Text      None  \n",
      "12      Scores - APACHE II     None       Text      None  \n",
      "Ve itemid:  [650, 3254, 1718, 1990, 5782, 1562, 1577, 1599, 2934, 3046]\n",
      "Vt itemid:  [501, 502, 1448, 65, 435, 652, 715, 3086, 5942, 2094, 2311, 2553, 2566, 2998, 3004, 3688, 3689, 3045, 6289, 7229, 6933, 6935, 6945, 224421, 224743, 223874]\n",
      "MBP itemid:  [1199, 1200, 1201, 283, 284, 285, 286, 287, 288, 289, 290, 438, 1321, 672, 3067, 5680, 5804, 2309, 2353, 2369, 2522, 2544, 2770, 2974, 6399, 6579, 6605, 41381, 41383, 41810, 44919, 44511, 44515, 44528, 44856, 44873, 227023, 227024, 226765, 226766, 226771, 226772, 226775, 226776]\n",
      "HR itemid:  [211, 3494, 220045, 220046, 220047]\n",
      "RR itemid:  [618, 619, 224688, 224689, 224690, 220210]\n",
      "PiMax itemid:  [2000, 226873, 224738]\n",
      "PaCO2 itemid:  [778, 227038]\n"
     ]
    }
   ],
   "source": [
    "GCS_ITEM_IDs = []\n",
    "Ve_ITEM_IDs = []\n",
    "Vt_ITEM_IDs = []\n",
    "MBP_ITEM_IDs = []\n",
    "HR_ITEM_IDs = []\n",
    "RR_ITEM_IDs = []\n",
    "PiMax_ITEM_IDs = []\n",
    "PaCO2_ITEM_IDs = []\n",
    "\n",
    "# open d_items and get the itemid that includes GCS in the label : GCS\n",
    "df = pd.read_sql_query(\"SELECT * FROM d_items WHERE label LIKE '%GCS%'\", conn)\n",
    "print(df)\n",
    "for i in range(len(df)):\n",
    "    GCS_ITEM_IDs.append(df['ITEMID'][i])\n",
    "# get only 198, 227013, 226755\n",
    "GCS_ITEM_IDs = [198, 227013, 226755]\n",
    "\n",
    "# open d_items and get the itemid that includes \"minute Ve\" in the label, find considering lower cases : Ve\n",
    "df = pd.read_sql_query(\"SELECT * FROM d_items WHERE label LIKE '%Minute Ve%'\", conn)\n",
    "for i in range(len(df)):\n",
    "    Ve_ITEM_IDs.append(df['ITEMID'][i])\n",
    "print(\"Ve itemid: \", Ve_ITEM_IDs)\n",
    "\n",
    "# open d_items and get the itemid that includes \"minute Vt\" in the label : Vt\n",
    "df = pd.read_sql_query(\"SELECT * FROM d_items WHERE label LIKE '%Vt%'\", conn)\n",
    "for i in range(len(df)):\n",
    "    Vt_ITEM_IDs.append(df['ITEMID'][i])\n",
    "print(\"Vt itemid: \", Vt_ITEM_IDs)\n",
    "\n",
    "# open d_items and get the itemid that includes \"MAP\" in the label : MBP\n",
    "df = pd.read_sql_query(\"SELECT * FROM d_items WHERE label LIKE '%MAP%'\", conn)\n",
    "for i in range(len(df)):\n",
    "    MBP_ITEM_IDs.append(df['ITEMID'][i])\n",
    "print(\"MBP itemid: \", MBP_ITEM_IDs)\n",
    "\n",
    "# open d_items and get the itemid that includes \"HR\" in the label : HR\n",
    "df = pd.read_sql_query(\"SELECT * FROM d_items WHERE label LIKE '%heart rate%'\", conn)\n",
    "for i in range(len(df)):\n",
    "    HR_ITEM_IDs.append(df['ITEMID'][i])\n",
    "print(\"HR itemid: \", HR_ITEM_IDs)\n",
    "\n",
    "# open d_items and get the itemid that includes \"RR\" in the label : RR\n",
    "df = pd.read_sql_query(\"SELECT * FROM d_items WHERE label LIKE '%respiratory rate%'\", conn)\n",
    "for i in range(len(df)):\n",
    "    RR_ITEM_IDs.append(df['ITEMID'][i])\n",
    "print(\"RR itemid: \", RR_ITEM_IDs)\n",
    "\n",
    "# open d_items and get the itemid that includes \"PiMax\" in the label : PiMax\n",
    "df = pd.read_sql_query(\"SELECT * FROM d_items WHERE label LIKE '%inspiratory%'\", conn)\n",
    "for i in range(len(df)):\n",
    "    PiMax_ITEM_IDs.append(df['ITEMID'][i])\n",
    "print(\"PiMax itemid: \", PiMax_ITEM_IDs)\n",
    "\n",
    "# open d_items and get the itemid that includes \"PaCO2\" in the label : PaCO2\n",
    "df = pd.read_sql_query(\"SELECT * FROM d_items WHERE label LIKE '%PaCO2%'\", conn)\n",
    "for i in range(len(df)):\n",
    "    PaCO2_ITEM_IDs.append(df['ITEMID'][i])\n",
    "print(\"PaCO2 itemid: \", PaCO2_ITEM_IDs)\n",
    "\n"
   ]
  },
  {
   "cell_type": "code",
   "execution_count": null,
   "metadata": {},
   "outputs": [
    {
     "name": "stdout",
     "output_type": "stream",
     "text": [
      "    ROW_ID  SUBJECT_ID  HADM_ID  ICUSTAY_ID  ITEMID            CHARTTIME  \\\n",
      "0    85994         711   158767    270525.0  226755  2185-03-23 14:26:00   \n",
      "1    86034         711   158767    270525.0  227013  2185-03-23 14:29:00   \n",
      "2    86076         711   158767    270525.0  227013  2185-03-23 14:34:00   \n",
      "3    86119         711   158767    270525.0  226755  2185-03-23 15:07:00   \n",
      "4  1150560       10757   153982    256332.0  226755  2180-11-14 00:26:00   \n",
      "5  2658460       22792   192087    271490.0  226755  2173-10-23 07:07:00   \n",
      "6  3215052       27121   167456    211255.0  227013  2126-12-09 14:32:00   \n",
      "7  3202256       27109   103103    237073.0  227013  2195-05-20 13:08:00   \n",
      "8  3301308       27366   174736    248077.0  226755  2143-03-01 09:16:00   \n",
      "9  3301382       27366   174736    248077.0  226755  2143-03-01 11:24:00   \n",
      "\n",
      "             STORETIME     CGID  VALUE  VALUENUM VALUEUOM  WARNING  ERROR  \\\n",
      "0  2185-03-23 14:29:00  19006.0    7.0       7.0     None        0      0   \n",
      "1  2185-03-23 14:29:00  19006.0   48.0      48.0     None        0      0   \n",
      "2  2185-03-23 14:45:00  19006.0   24.0      24.0     None        0      0   \n",
      "3  2185-03-23 15:19:00  19006.0    7.0       7.0     None        0      0   \n",
      "4  2180-11-14 00:26:00  14770.0    0.0       0.0     None        0      0   \n",
      "5  2173-10-23 07:08:00  15511.0    0.0       0.0     None        0      0   \n",
      "6  2126-12-09 14:34:00  15103.0   15.0      15.0     None        0      0   \n",
      "7  2195-05-20 13:11:00  19006.0    0.0       0.0     None        0      0   \n",
      "8  2143-03-01 09:18:00  16671.0    5.0       5.0     None        0      0   \n",
      "9  2143-03-01 11:25:00  15237.0    0.0       0.0     None        0      0   \n",
      "\n",
      "  RESULTSTATUS STOPPED  \n",
      "0         None    None  \n",
      "1         None    None  \n",
      "2         None    None  \n",
      "3         None    None  \n",
      "4         None    None  \n",
      "5         None    None  \n",
      "6         None    None  \n",
      "7         None    None  \n",
      "8         None    None  \n",
      "9         None    None  \n"
     ]
    }
   ],
   "source": [
    "# load chartevents table and find the rows with GCS_ITEM_IDs, get only 100 rows\n",
    "df = pd.read_sql_query(\"SELECT * FROM chartevents WHERE itemid IN ({}) LIMIT 10\".format(','.join(['?']*len(GCS_ITEM_IDs))), conn, params=GCS_ITEM_IDs)\n",
    "print(df)\n"
   ]
  },
  {
   "cell_type": "code",
   "execution_count": null,
   "metadata": {},
   "outputs": [],
   "source": [
    "# load chartevents table and find the rows with HR_ITEM_IDs, get only 10 rows\n",
    "df = pd.read_sql_query(\"SELECT * FROM chartevents WHERE itemid IN ({}) LIMIT 10\".format(','.join(['?']*len(HR_ITEM_IDs))), conn, params=HR_ITEM_IDs)\n",
    "print(df)"
   ]
  },
  {
   "cell_type": "code",
   "execution_count": null,
   "metadata": {},
   "outputs": [],
   "source": []
  }
 ],
 "metadata": {
  "kernelspec": {
   "display_name": "Python 3",
   "language": "python",
   "name": "python3"
  },
  "language_info": {
   "codemirror_mode": {
    "name": "ipython",
    "version": 3
   },
   "file_extension": ".py",
   "mimetype": "text/x-python",
   "name": "python",
   "nbconvert_exporter": "python",
   "pygments_lexer": "ipython3",
   "version": "3.9.10 (tags/v3.9.10:f2f3f53, Jan 17 2022, 15:14:21) [MSC v.1929 64 bit (AMD64)]"
  },
  "orig_nbformat": 4,
  "vscode": {
   "interpreter": {
    "hash": "25034407fed5d681614dac11a1c0537e8cb49e3a8883c071303eea01322943d9"
   }
  }
 },
 "nbformat": 4,
 "nbformat_minor": 2
}
