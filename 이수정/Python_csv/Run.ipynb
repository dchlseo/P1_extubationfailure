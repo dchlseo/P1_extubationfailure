{
 "cells": [
  {
   "cell_type": "code",
   "execution_count": 10,
   "metadata": {},
   "outputs": [],
   "source": [
    "import os"
   ]
  },
  {
   "cell_type": "code",
   "execution_count": null,
   "metadata": {},
   "outputs": [],
   "source": [
    "# os.chdir를 통해 해당 디렉토리로 이동"
   ]
  },
  {
   "cell_type": "code",
   "execution_count": 13,
   "metadata": {},
   "outputs": [],
   "source": [
    "os.chdir('C:/Data/MIMIC4/mimic-iv-2.2_unzip/')"
   ]
  },
  {
   "cell_type": "code",
   "execution_count": 11,
   "metadata": {},
   "outputs": [
    {
     "data": {
      "text/plain": [
       "['CHANGELOG.txt', 'hosp', 'icu', 'LICENSE.txt', 'SHA256SUMS.txt']"
      ]
     },
     "execution_count": 11,
     "metadata": {},
     "output_type": "execute_result"
    }
   ],
   "source": [
    "os.listdir('C:/Data/MIMIC4/mimic-iv-2.2_unzip/')"
   ]
  },
  {
   "cell_type": "code",
   "execution_count": 14,
   "metadata": {},
   "outputs": [
    {
     "data": {
      "text/plain": [
       "'C:\\\\Data\\\\MIMIC4\\\\mimic-iv-2.2_unzip'"
      ]
     },
     "execution_count": 14,
     "metadata": {},
     "output_type": "execute_result"
    }
   ],
   "source": [
    "os.getcwd()"
   ]
  },
  {
   "cell_type": "code",
   "execution_count": null,
   "metadata": {},
   "outputs": [],
   "source": [
    "import os\n",
    "import pandas as pd\n",
    "\n",
    "os.chdir('C:/Data/MIMIC4/mimic-iv-2.2_unzip/')\n",
    "csv_list = os.listdir()\n",
    "for csv_file in csv_list:\n",
    "    print('Loading'+csv_file)\n",
    "    df1 = pd.read_csv('./hosp/'+ csv_file, chunksize=1000000, iterator=True, low_memory=False)\n",
    "    df2 = pd.read_csv('./icu/'+ csv_file, chunksize=1000000, iterator=True, low_memory=False )\n",
    "    for chunk in tqdm(df1):\n",
    "        chunk.to_sql(csv_file[:-4], conn, if exists='append',index=False)\n"
   ]
  },
  {
   "cell_type": "code",
   "execution_count": 12,
   "metadata": {},
   "outputs": [
    {
     "name": "stdout",
     "output_type": "stream",
     "text": [
      "['CHANGELOG.txt', 'LICENSE.txt', 'SHA256SUMS.txt', 'hosp', 'icu']\n"
     ]
    }
   ],
   "source": [
    "import os\n",
    "os.system(\"powershell.exe Expand-Archive *.csv\")\n",
    "path = 'C:/Data/MIMIC4/mimic-iv-2.2_unzip/'\n",
    "csv_list = sorted(os.listdir(path))\n",
    "print(csv_list)"
   ]
  },
  {
   "cell_type": "code",
   "execution_count": null,
   "metadata": {},
   "outputs": [],
   "source": []
  }
 ],
 "metadata": {
  "kernelspec": {
   "display_name": "Python 3",
   "language": "python",
   "name": "python3"
  },
  "language_info": {
   "codemirror_mode": {
    "name": "ipython",
    "version": 3
   },
   "file_extension": ".py",
   "mimetype": "text/x-python",
   "name": "python",
   "nbconvert_exporter": "python",
   "pygments_lexer": "ipython3",
   "version": "3.9.10 (tags/v3.9.10:f2f3f53, Jan 17 2022, 15:14:21) [MSC v.1929 64 bit (AMD64)]"
  },
  "orig_nbformat": 4,
  "vscode": {
   "interpreter": {
    "hash": "25034407fed5d681614dac11a1c0537e8cb49e3a8883c071303eea01322943d9"
   }
  }
 },
 "nbformat": 4,
 "nbformat_minor": 2
}
